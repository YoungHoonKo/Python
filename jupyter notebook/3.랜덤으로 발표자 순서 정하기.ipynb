{
 "cells": [
  {
   "cell_type": "code",
   "execution_count": 5,
   "id": "b6a4b873",
   "metadata": {},
   "outputs": [
    {
     "name": "stdout",
     "output_type": "stream",
     "text": [
      "[10, 3, 7, 6, 4, 5, 1, 2, 9, 8]\n"
     ]
    }
   ],
   "source": [
    "import random\n",
    "\n",
    "target_list = list(range(1, 11))\n",
    "\n",
    "random.shuffle(target_list)\n",
    "\n",
    "print(target_list)"
   ]
  },
  {
   "cell_type": "code",
   "execution_count": 3,
   "id": "b63f9408",
   "metadata": {},
   "outputs": [
    {
     "name": "stdout",
     "output_type": "stream",
     "text": [
      "{'A': 1, 'B': 2}\n",
      "{'A': 9, 'B': 2}\n",
      "['A', 1]\n"
     ]
    }
   ],
   "source": [
    "dict_list = {'A':1, 'B':2}\n",
    "print(dict_list)\n",
    "\n",
    "dict_list['A'] = target_list[0]\n",
    "print(dict_list)\n",
    "\n",
    "target_list = [['A', 1], ['B', 2]]\n",
    "print(target_list[0])"
   ]
  },
  {
   "cell_type": "code",
   "execution_count": null,
   "id": "8155ca44",
   "metadata": {},
   "outputs": [],
   "source": []
  },
  {
   "cell_type": "code",
   "execution_count": null,
   "id": "026675be",
   "metadata": {},
   "outputs": [],
   "source": []
  }
 ],
 "metadata": {
  "kernelspec": {
   "display_name": "Python 3 (ipykernel)",
   "language": "python",
   "name": "python3"
  },
  "language_info": {
   "codemirror_mode": {
    "name": "ipython",
    "version": 3
   },
   "file_extension": ".py",
   "mimetype": "text/x-python",
   "name": "python",
   "nbconvert_exporter": "python",
   "pygments_lexer": "ipython3",
   "version": "3.9.7"
  }
 },
 "nbformat": 4,
 "nbformat_minor": 5
}
