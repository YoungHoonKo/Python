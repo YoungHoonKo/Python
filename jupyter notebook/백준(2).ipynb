{
 "cells": [
  {
   "cell_type": "code",
   "execution_count": 33,
   "id": "71c487f5",
   "metadata": {
    "scrolled": true
   },
   "outputs": [
    {
     "name": "stdout",
     "output_type": "stream",
     "text": [
      "9 8\n",
      ">\n"
     ]
    }
   ],
   "source": [
    "#두 수를 입력받아서 비교하기\n",
    "A, B =  map(int, input().split())\n",
    "if A > B:\n",
    "    print('>')\n",
    "elif A < B:\n",
    "    print('<')\n",
    "else:\n",
    "    print('==')"
   ]
  },
  {
   "cell_type": "code",
   "execution_count": 36,
   "id": "97fb50b9",
   "metadata": {},
   "outputs": [
    {
     "name": "stdout",
     "output_type": "stream",
     "text": [
      "50\n",
      "F\n"
     ]
    }
   ],
   "source": [
    "#점수를 입력받아서 등급 매기기\n",
    "a = int(input(''))\n",
    "if a <=100 and a >=90:\n",
    "    print('A')\n",
    "elif a >= 80:\n",
    "    print('B')\n",
    "elif a >= 70:\n",
    "    print('C')\n",
    "elif a >= 60:\n",
    "    print('D')\n",
    "else:\n",
    "    print('F')"
   ]
  },
  {
   "cell_type": "code",
   "execution_count": 48,
   "id": "b36460a8",
   "metadata": {
    "scrolled": true
   },
   "outputs": [
    {
     "name": "stdout",
     "output_type": "stream",
     "text": [
      "2000\n",
      "1\n"
     ]
    }
   ],
   "source": [
    "#윤년 판단\n",
    "a = int(input(''))\n",
    "if (a % 4 == 0 and a % 100 != 0 or a % 4 == 0 and a % 400 == 0):\n",
    "    print(1)\n",
    "else:\n",
    "    print(0)"
   ]
  },
  {
   "cell_type": "code",
   "execution_count": 52,
   "id": "2f21af4f",
   "metadata": {
    "scrolled": true
   },
   "outputs": [
    {
     "name": "stdout",
     "output_type": "stream",
     "text": [
      "9\n",
      "-13\n",
      "4\n"
     ]
    }
   ],
   "source": [
    "#사분면 구하기\n",
    "x = int(input(''))\n",
    "y = int(input(''))\n",
    "if x > 0:\n",
    "    if y > 0:\n",
    "        print(1)\n",
    "    else:\n",
    "        print(4)\n",
    "if x < 0:\n",
    "    if y > 0:\n",
    "        print(2)\n",
    "    else:\n",
    "        print(3)"
   ]
  },
  {
   "cell_type": "code",
   "execution_count": 67,
   "id": "cdb56781",
   "metadata": {},
   "outputs": [
    {
     "name": "stdout",
     "output_type": "stream",
     "text": [
      "0 15\n",
      "23 30\n"
     ]
    }
   ],
   "source": [
    "#알람시간 변경\n",
    "H, M = map(int, input().split())\n",
    "0 <= H <=23\n",
    "0 <= M <= 60\n",
    "#24간제는 변수의 범위를 지정\n",
    "\n",
    "if M >= 45:\n",
    "    M = M - 45\n",
    "elif M < 45:\n",
    "    M = 60 + (M - 45)\n",
    "    if H == 0:\n",
    "        H = 24 - 1\n",
    "    else:\n",
    "        H = H - 1\n",
    "print(H, M)\n"
   ]
  },
  {
   "cell_type": "code",
   "execution_count": 74,
   "id": "2e6067b0",
   "metadata": {},
   "outputs": [
    {
     "name": "stdout",
     "output_type": "stream",
     "text": [
      "14 30\n",
      "20\n",
      "14 50\n"
     ]
    }
   ],
   "source": [
    "#오븐 문제\n",
    "a, b = map(int, input().split())\n",
    "0 <= a <=23\n",
    "0 <= b <= 59\n",
    "#24간제는 변수의 범위를 지정\n",
    "\n",
    "c = int(input(''))\n",
    "if b + c > 59:\n",
    "    d = ((b + c) // 60)\n",
    "    if a + d > 23:\n",
    "        print(a + d - 24, b+c - 60*d)\n",
    "    else:\n",
    "        print(a + d, b + c - 60*d)\n",
    "elif b + c < 60:\n",
    "    print(a, b+c)"
   ]
  },
  {
   "cell_type": "code",
   "execution_count": 95,
   "id": "cc27be6f",
   "metadata": {},
   "outputs": [
    {
     "name": "stdout",
     "output_type": "stream",
     "text": [
      "3 3 6\n",
      "1300\n"
     ]
    }
   ],
   "source": [
    "a, b, c = map(int, input(\"\").split())\n",
    "if a == b:\n",
    "    if a == c:\n",
    "        print(10000 + 1000*a)\n",
    "    else:\n",
    "        print(1000 + 100*a)\n",
    "else:\n",
    "    if a == c:\n",
    "        print(1000 + 100*a)\n",
    "    elif b == c:\n",
    "        print(1000 + 100*b)\n",
    "    else:\n",
    "        if a > b:\n",
    "            if c > a:\n",
    "                print(c*100)\n",
    "            else:\n",
    "                print(a*100)\n",
    "        else:\n",
    "            if c > b:\n",
    "                print(c*100)\n",
    "            else:\n",
    "                print(b*100)"
   ]
  },
  {
   "cell_type": "code",
   "execution_count": null,
   "id": "bc07670d",
   "metadata": {},
   "outputs": [],
   "source": []
  }
 ],
 "metadata": {
  "kernelspec": {
   "display_name": "Python 3 (ipykernel)",
   "language": "python",
   "name": "python3"
  },
  "language_info": {
   "codemirror_mode": {
    "name": "ipython",
    "version": 3
   },
   "file_extension": ".py",
   "mimetype": "text/x-python",
   "name": "python",
   "nbconvert_exporter": "python",
   "pygments_lexer": "ipython3",
   "version": "3.9.12"
  }
 },
 "nbformat": 4,
 "nbformat_minor": 5
}
