{
 "cells": [
  {
   "cell_type": "code",
   "execution_count": 3,
   "id": "eb842167",
   "metadata": {},
   "outputs": [
    {
     "name": "stdout",
     "output_type": "stream",
     "text": [
      "[12, 4, 4, 14, 16, 3, 19, 10, 14, 6, 3, 2, 18, 17, 1, 14, 19, 3, 16, 15]\n",
      "1 is selected\n",
      "2 is selected\n",
      "3 is selected\n",
      "4 is selected\n",
      "6 is selected\n",
      "10 is selected\n",
      "12 is selected\n",
      "14 is selected\n",
      "15 is selected\n",
      "16 is selected\n",
      "17 is selected\n",
      "18 is selected\n",
      "19 is selected\n"
     ]
    }
   ],
   "source": [
    "#리스트 연습(1~20까지 무작위로 숫자를 뽑아 리스트를 만든 후 리스트에 있는 수 찾기)\n",
    "import random\n",
    "\n",
    "num = []\n",
    "for i in range(1, 21):\n",
    "    num.append(random.randrange(1, 21))\n",
    "    \n",
    "print(num)\n",
    "for i in range(1, 21):\n",
    "    if i in num:\n",
    "        print(\"%d is selected\" %i)\n",
    "    "
   ]
  },
  {
   "cell_type": "code",
   "execution_count": 7,
   "id": "4a5854b1",
   "metadata": {},
   "outputs": [
    {
     "name": "stdout",
     "output_type": "stream",
     "text": [
      "A의 주사위는 5 4 입니다.\n",
      "B의 주사위는 1 5 입니다.\n",
      "A is winner\n"
     ]
    }
   ],
   "source": [
    "#주사위 게임\n",
    "import random\n",
    "\n",
    "a, b, c, d = 0, 0, 0, 0\n",
    "\n",
    "a = random.randrange(1, 6)\n",
    "b = random.randrange(1, 6)\n",
    "c = random.randrange(1, 6)\n",
    "d = random.randrange(1, 6)\n",
    "\n",
    "res1 = a + b\n",
    "res2 = c + d\n",
    "\n",
    "print(\"A의 주사위는 %d %d 입니다.\" %(a, b))\n",
    "print(\"B의 주사위는 %d %d 입니다.\" %(c, d))\n",
    "\n",
    "if res1 > res2:\n",
    "    print(\"A is winner\")\n",
    "elif res1 < res2:\n",
    "    print(\"B is winner\")\n",
    "else:\n",
    "    print(\"same\")\n",
    "    \n",
    "\n",
    "\n"
   ]
  },
  {
   "cell_type": "code",
   "execution_count": 14,
   "id": "6967a705",
   "metadata": {},
   "outputs": [
    {
     "name": "stdout",
     "output_type": "stream",
     "text": [
      "#  2단  ##  3단  ##  4단  ##  5단  ##  6단  ##  7단  ##  8단  ##  9단  #\n",
      "2X1= 2 2X2= 4 2X3= 6 2X4= 8 2X5=10 2X6=12 2X7=14 2X8=16 2X9=18 \n",
      "3X1= 3 3X2= 6 3X3= 9 3X4=12 3X5=15 3X6=18 3X7=21 3X8=24 3X9=27 \n",
      "4X1= 4 4X2= 8 4X3=12 4X4=16 4X5=20 4X6=24 4X7=28 4X8=32 4X9=36 \n",
      "5X1= 5 5X2=10 5X3=15 5X4=20 5X5=25 5X6=30 5X7=35 5X8=40 5X9=45 \n",
      "6X1= 6 6X2=12 6X3=18 6X4=24 6X5=30 6X6=36 6X7=42 6X8=48 6X9=54 \n",
      "7X1= 7 7X2=14 7X3=21 7X4=28 7X5=35 7X6=42 7X7=49 7X8=56 7X9=63 \n",
      "8X1= 8 8X2=16 8X3=24 8X4=32 8X5=40 8X6=48 8X7=56 8X8=64 8X9=72 \n",
      "9X1= 9 9X2=18 9X3=27 9X4=36 9X5=45 9X6=54 9X7=63 9X8=72 9X9=81 \n"
     ]
    }
   ],
   "source": [
    "#구구단\n",
    "i, k, gugu = 0, 0, \"\"\n",
    "\n",
    "for i in range(2, 10):\n",
    "    gugu = gugu + ('#  %d단  #' %i)\n",
    "\n",
    "print(gugu)\n",
    "\n",
    "for i in range(2, 10):\n",
    "    gugu = \"\"\n",
    "    for k in range(1, 10):\n",
    "        gugu = gugu + str(\"%dX%d=%2d \" %(i,k,i*k))\n",
    "    print(gugu)\n",
    "    \n"
   ]
  },
  {
   "cell_type": "code",
   "execution_count": 19,
   "id": "079028e6",
   "metadata": {},
   "outputs": [
    {
     "ename": "KeyboardInterrupt",
     "evalue": "Interrupted by user",
     "output_type": "error",
     "traceback": [
      "\u001b[0;31m---------------------------------------------------------------------------\u001b[0m",
      "\u001b[0;31mKeyboardInterrupt\u001b[0m                         Traceback (most recent call last)",
      "\u001b[0;32m/var/folders/wf/xh26p7mj38b_qg03gtl36rz00000gn/T/ipykernel_66624/3226493657.py\u001b[0m in \u001b[0;36m<module>\u001b[0;34m\u001b[0m\n\u001b[1;32m      6\u001b[0m \u001b[0;34m\u001b[0m\u001b[0m\n\u001b[1;32m      7\u001b[0m \u001b[0;32mfor\u001b[0m \u001b[0mi\u001b[0m \u001b[0;32min\u001b[0m \u001b[0mrange\u001b[0m\u001b[0;34m(\u001b[0m\u001b[0;36m0\u001b[0m\u001b[0;34m,\u001b[0m \u001b[0;36m4\u001b[0m\u001b[0;34m)\u001b[0m\u001b[0;34m:\u001b[0m\u001b[0;34m\u001b[0m\u001b[0;34m\u001b[0m\u001b[0m\n\u001b[0;32m----> 8\u001b[0;31m     \u001b[0maa\u001b[0m\u001b[0;34m[\u001b[0m\u001b[0mi\u001b[0m\u001b[0;34m]\u001b[0m \u001b[0;34m=\u001b[0m \u001b[0mint\u001b[0m\u001b[0;34m(\u001b[0m\u001b[0minput\u001b[0m\u001b[0;34m(\u001b[0m\u001b[0mstr\u001b[0m\u001b[0;34m(\u001b[0m\u001b[0mi\u001b[0m\u001b[0;34m+\u001b[0m\u001b[0;36m1\u001b[0m\u001b[0;34m)\u001b[0m \u001b[0;34m+\u001b[0m \u001b[0;34m\"번째 숫자 : \"\u001b[0m \u001b[0;34m)\u001b[0m\u001b[0;34m)\u001b[0m\u001b[0;34m\u001b[0m\u001b[0;34m\u001b[0m\u001b[0m\n\u001b[0m\u001b[1;32m      9\u001b[0m \u001b[0;34m\u001b[0m\u001b[0m\n\u001b[1;32m     10\u001b[0m \u001b[0;32mfor\u001b[0m \u001b[0mi\u001b[0m \u001b[0;32min\u001b[0m \u001b[0mrange\u001b[0m\u001b[0;34m(\u001b[0m\u001b[0;36m0\u001b[0m\u001b[0;34m,\u001b[0m \u001b[0;36m4\u001b[0m\u001b[0;34m)\u001b[0m\u001b[0;34m:\u001b[0m\u001b[0;34m\u001b[0m\u001b[0;34m\u001b[0m\u001b[0m\n",
      "\u001b[0;32m~/opt/anaconda3/lib/python3.9/site-packages/ipykernel/kernelbase.py\u001b[0m in \u001b[0;36mraw_input\u001b[0;34m(self, prompt)\u001b[0m\n\u001b[1;32m   1004\u001b[0m                 \u001b[0;34m\"raw_input was called, but this frontend does not support input requests.\"\u001b[0m\u001b[0;34m\u001b[0m\u001b[0;34m\u001b[0m\u001b[0m\n\u001b[1;32m   1005\u001b[0m             )\n\u001b[0;32m-> 1006\u001b[0;31m         return self._input_request(\n\u001b[0m\u001b[1;32m   1007\u001b[0m             \u001b[0mstr\u001b[0m\u001b[0;34m(\u001b[0m\u001b[0mprompt\u001b[0m\u001b[0;34m)\u001b[0m\u001b[0;34m,\u001b[0m\u001b[0;34m\u001b[0m\u001b[0;34m\u001b[0m\u001b[0m\n\u001b[1;32m   1008\u001b[0m             \u001b[0mself\u001b[0m\u001b[0;34m.\u001b[0m\u001b[0m_parent_ident\u001b[0m\u001b[0;34m[\u001b[0m\u001b[0;34m\"shell\"\u001b[0m\u001b[0;34m]\u001b[0m\u001b[0;34m,\u001b[0m\u001b[0;34m\u001b[0m\u001b[0;34m\u001b[0m\u001b[0m\n",
      "\u001b[0;32m~/opt/anaconda3/lib/python3.9/site-packages/ipykernel/kernelbase.py\u001b[0m in \u001b[0;36m_input_request\u001b[0;34m(self, prompt, ident, parent, password)\u001b[0m\n\u001b[1;32m   1049\u001b[0m             \u001b[0;32mexcept\u001b[0m \u001b[0mKeyboardInterrupt\u001b[0m\u001b[0;34m:\u001b[0m\u001b[0;34m\u001b[0m\u001b[0;34m\u001b[0m\u001b[0m\n\u001b[1;32m   1050\u001b[0m                 \u001b[0;31m# re-raise KeyboardInterrupt, to truncate traceback\u001b[0m\u001b[0;34m\u001b[0m\u001b[0;34m\u001b[0m\u001b[0m\n\u001b[0;32m-> 1051\u001b[0;31m                 \u001b[0;32mraise\u001b[0m \u001b[0mKeyboardInterrupt\u001b[0m\u001b[0;34m(\u001b[0m\u001b[0;34m\"Interrupted by user\"\u001b[0m\u001b[0;34m)\u001b[0m \u001b[0;32mfrom\u001b[0m \u001b[0;32mNone\u001b[0m\u001b[0;34m\u001b[0m\u001b[0;34m\u001b[0m\u001b[0m\n\u001b[0m\u001b[1;32m   1052\u001b[0m             \u001b[0;32mexcept\u001b[0m \u001b[0mException\u001b[0m\u001b[0;34m:\u001b[0m\u001b[0;34m\u001b[0m\u001b[0;34m\u001b[0m\u001b[0m\n\u001b[1;32m   1053\u001b[0m                 \u001b[0mself\u001b[0m\u001b[0;34m.\u001b[0m\u001b[0mlog\u001b[0m\u001b[0;34m.\u001b[0m\u001b[0mwarning\u001b[0m\u001b[0;34m(\u001b[0m\u001b[0;34m\"Invalid Message:\"\u001b[0m\u001b[0;34m,\u001b[0m \u001b[0mexc_info\u001b[0m\u001b[0;34m=\u001b[0m\u001b[0;32mTrue\u001b[0m\u001b[0;34m)\u001b[0m\u001b[0;34m\u001b[0m\u001b[0;34m\u001b[0m\u001b[0m\n",
      "\u001b[0;31mKeyboardInterrupt\u001b[0m: Interrupted by user"
     ]
    }
   ],
   "source": [
    "#리스트 연습\n",
    "aa = []\n",
    "for i in range(0, 4):\n",
    "    aa.append(0)\n",
    "hap = 0\n",
    "\n",
    "for i in range(0, 4):\n",
    "    aa[i] = int(input(str(i+1) + \"번째 숫자 : \" ))\n",
    "\n",
    "for i in range(0, 4):\n",
    "    hap += aa[i]\n",
    "print(\"sum = %d\\n\" %hap)"
   ]
  },
  {
   "cell_type": "code",
   "execution_count": 24,
   "id": "8ecbb712",
   "metadata": {},
   "outputs": [
    {
     "name": "stdout",
     "output_type": "stream",
     "text": [
      "bb[0] = 198, bb[99] = 0\n"
     ]
    }
   ],
   "source": [
    "#리스트를 채운 후 다른 리스트에 역순으로 삽입하기\n",
    "aa = []\n",
    "bb = []\n",
    "value = 0\n",
    "\n",
    "for i in range(0, 100):\n",
    "    aa.append(value)\n",
    "    value += 2\n",
    "    \n",
    "for i in range(0, 100):\n",
    "    bb.append(aa[99 - i])\n",
    "    \n",
    "print(\"bb[0] = %d, bb[99] = %d\" %(bb[0], bb[99]))"
   ]
  },
  {
   "cell_type": "code",
   "execution_count": 30,
   "id": "d8a10f77",
   "metadata": {},
   "outputs": [
    {
     "name": "stdout",
     "output_type": "stream",
     "text": [
      "  0  1  2  3\n",
      "  4  5  6  7\n",
      "  8  9 10 11\n"
     ]
    }
   ],
   "source": [
    "#중첩 for문으로 3행 4열 리스트 생성 후 1~12까지대입\n",
    "list1 = []\n",
    "list2 = []\n",
    "value = 0\n",
    "\n",
    "for i in range(0, 3):\n",
    "    for k in range(0, 4):\n",
    "        list1.append(value)\n",
    "        value += 1\n",
    "    list2.append(list1)\n",
    "    list1 = []\n",
    "\n",
    "for i in range(0, 3):\n",
    "    for k in range(0, 4):\n",
    "        print(\"%3d\"%list2[i][k], end = '')\n",
    "    print(\"\")"
   ]
  },
  {
   "cell_type": "code",
   "execution_count": 32,
   "id": "2c972b71",
   "metadata": {},
   "outputs": [
    {
     "name": "stdout",
     "output_type": "stream",
     "text": [
      "\n",
      "\n",
      "  1  2  3\n",
      "\n",
      "  4  5  6\n",
      "\n",
      "  7  8  9"
     ]
    }
   ],
   "source": [
    "#2차원 튜플 출력\n",
    "t2 = ((1, 2, 3),\n",
    "      (4, 5, 6),\n",
    "      (7, 8, 9))\n",
    "for i in range(0, 3):\n",
    "    print(\"\\n\")\n",
    "    for k in range(0, 3):\n",
    "        print(\"%3d\" %t2[i][k], end = \"\")"
   ]
  },
  {
   "cell_type": "code",
   "execution_count": 33,
   "id": "fba93cc2",
   "metadata": {},
   "outputs": [
    {
     "name": "stdout",
     "output_type": "stream",
     "text": [
      "{'ID': 'C289002', 'Name': '고영훈', 'major': 'software'}\n",
      "{'ID': 'C289002', 'Name': '고영훈', 'major': 'chemistry'}\n",
      "{'ID': 'C289002', 'Name': '고영훈', 'major': 'chemistry', 'PhoneNumber': '010-4097-2760'}\n",
      "{'ID': 'C289002', 'Name': '고영훈', 'major': 'chemistry'}\n",
      "C289002\n",
      "chemistry\n",
      "고영훈\n",
      "C289002\n",
      "dict_keys(['ID', 'Name', 'major'])\n",
      "['ID', 'Name', 'major']\n",
      "dict_values(['C289002', '고영훈', 'chemistry'])\n",
      "['C289002', '고영훈', 'chemistry']\n",
      "dict_items([('ID', 'C289002'), ('Name', '고영훈'), ('major', 'chemistry')])\n",
      "True\n",
      "False\n"
     ]
    }
   ],
   "source": [
    "#딕셔너리 연습입니다.\n",
    "student1 = {'ID' : 'C289002', 'Name' : '고영훈', 'major' : \"software\"}\n",
    "print(student1)\n",
    "\n",
    "student1['major'] = 'chemistry' #major의 값을 바꿈\n",
    "print(student1)\n",
    "\n",
    "student1['PhoneNumber'] = '010-4097-2760' #폰넘버라는 새로운 키와 값을 입력해줌 \n",
    "print(student1)\n",
    "\n",
    "del(student1['PhoneNumber'])  #딕셔너리에서 폰넘버를 지우는 함수 \n",
    "print(student1)\n",
    "\n",
    "print(student1['ID'])\n",
    "print(student1['major'])\n",
    "print(student1['Name'])\n",
    "#딕셔너리명[키]는 없는 키를 호출하면 오류 발생, 딕셔너리명.get(키)는 none 즉 아무것도 출력하지 않음\n",
    "print(student1.get('ID'))  \n",
    "\n",
    "print(student1.keys()) #딕셔너리의 모든 키를 번환함\n",
    "print(list(student1.keys())) #딕셔너리의 모든 키를 리스트 형태로 반환 dis_key를 지워줌 \n",
    "\n",
    "print(student1.values())  #딕셔너리으 모든 값을 반환함 \n",
    "print(list(student1.values())) #딕셔너리의 모든 값을 리스트 형태로 반환함 dic_values를 지워줌 \n",
    "\n",
    "print(student1.items())  #튜플 형태로도 나타낼 수 있다\n",
    "\n",
    "print('ID' in student1) #키가 있는지 확인할 수 있다.boolean 값을 반환\n",
    "print('age' in student1)"
   ]
  },
  {
   "cell_type": "code",
   "execution_count": 34,
   "id": "403153fc",
   "metadata": {},
   "outputs": [
    {
     "name": "stdout",
     "output_type": "stream",
     "text": [
      "[1, 2, 3, 4, 5]\n",
      "[1, 2, 3, 4, 5]\n",
      "[1, 4, 9, 16, 25]\n",
      "[3, 6, 9, 12, 15, 18]\n"
     ]
    }
   ],
   "source": [
    "#컴프리헨션 순차적인 리스트를 한 줄로 간단하게 만드는 것이다.\n",
    "numList = [] #순차적인 리스트\n",
    "for num in range(1, 6):\n",
    "    numList.append(num)\n",
    "print(numList)\n",
    "\n",
    "numList1 = [num for num in range(1, 6)]  #컴프리헴션으로 간단하게 한 줄로 줄였다.\n",
    "print(numList1)\n",
    "\n",
    "numList3 = [num * num for num in range(1, 6)]\n",
    "print(numList3)\n",
    "\n",
    "numList4 = [num for num in range(1, 21) if num % 3 == 0]\n",
    "print(numList4)"
   ]
  },
  {
   "cell_type": "code",
   "execution_count": 36,
   "id": "26ebe0c2",
   "metadata": {},
   "outputs": [
    {
     "name": "stdout",
     "output_type": "stream",
     "text": [
      "[1, 2, 3, 4, 5]\n",
      "[1, 2, 3, 4, 5]\n"
     ]
    }
   ],
   "source": [
    "numList = []\n",
    "for num in range(1, 6):\n",
    "    numList.append(num)\n",
    "print(numList)\n",
    "\n",
    "numList1 = [num for num in range(1, 6)]\n",
    "print(numList1)"
   ]
  },
  {
   "cell_type": "code",
   "execution_count": 37,
   "id": "6e1b1487",
   "metadata": {},
   "outputs": [
    {
     "name": "stdout",
     "output_type": "stream",
     "text": [
      "김치 -> 오뎅\n",
      "단무지 -> 튀김\n",
      "라면 -> 샐러드\n"
     ]
    }
   ],
   "source": [
    "#동시에 여러 리스트에 접근하기\n",
    "foods = ['김치', '단무지', '라면', '피자', '치킨']\n",
    "sides = ['오뎅', '튀김', '샐러드']\n",
    "for food, side in zip(foods, sides):\n",
    "    print(food, '->', side)\n",
    "#zip()함수는 두 리스트, 튜플, 딕셔너리를 짝지을 때 유용하게 사용된다.갯수가 적은 것 까지만 생성됨"
   ]
  },
  {
   "cell_type": "code",
   "execution_count": null,
   "id": "bbb3078d",
   "metadata": {},
   "outputs": [],
   "source": []
  }
 ],
 "metadata": {
  "kernelspec": {
   "display_name": "Python 3 (ipykernel)",
   "language": "python",
   "name": "python3"
  },
  "language_info": {
   "codemirror_mode": {
    "name": "ipython",
    "version": 3
   },
   "file_extension": ".py",
   "mimetype": "text/x-python",
   "name": "python",
   "nbconvert_exporter": "python",
   "pygments_lexer": "ipython3",
   "version": "3.9.7"
  }
 },
 "nbformat": 4,
 "nbformat_minor": 5
}
