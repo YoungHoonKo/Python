{
 "cells": [
  {
   "cell_type": "code",
   "execution_count": 1,
   "id": "7d8a003c",
   "metadata": {},
   "outputs": [
    {
     "name": "stdout",
     "output_type": "stream",
     "text": [
      "b'Hello Server'\n",
      "b'Hello Server/Hi Client'\n"
     ]
    },
    {
     "data": {
      "text/plain": [
       "22"
      ]
     },
     "execution_count": 1,
     "metadata": {},
     "output_type": "execute_result"
    }
   ],
   "source": [
    "#echo server\n",
    "import socket\n",
    "\n",
    "HOST = '127.0.0.1' #myself\n",
    "PORT = 50000\n",
    "\n",
    "s = socket.socket(socket.AF_INET, socket.SOCK_STREAM)#tcp\n",
    "s.bind((HOST, PORT))\n",
    "s.listen()\n",
    "connection, address = s.accept()\n",
    "recv_data = connection.recv(1024)\n",
    "print(recv_data)\n",
    "recv_data = recv_data + '/Hi Client'.encode()\n",
    "\n",
    "print(recv_data)\n",
    "connection.send(recv_data)"
   ]
  },
  {
   "cell_type": "code",
   "execution_count": null,
   "id": "726b0e7c",
   "metadata": {},
   "outputs": [],
   "source": []
  },
  {
   "cell_type": "code",
   "execution_count": null,
   "id": "8e864f29",
   "metadata": {},
   "outputs": [],
   "source": []
  }
 ],
 "metadata": {
  "kernelspec": {
   "display_name": "Python 3 (ipykernel)",
   "language": "python",
   "name": "python3"
  },
  "language_info": {
   "codemirror_mode": {
    "name": "ipython",
    "version": 3
   },
   "file_extension": ".py",
   "mimetype": "text/x-python",
   "name": "python",
   "nbconvert_exporter": "python",
   "pygments_lexer": "ipython3",
   "version": "3.9.7"
  }
 },
 "nbformat": 4,
 "nbformat_minor": 5
}
