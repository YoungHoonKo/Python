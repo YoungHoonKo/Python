{
 "cells": [
  {
   "cell_type": "code",
   "execution_count": 12,
   "id": "5e0f1b1f",
   "metadata": {},
   "outputs": [
    {
     "name": "stdout",
     "output_type": "stream",
     "text": [
      "2\n",
      "2 * 1 = 2\n",
      "2 * 2 = 4\n",
      "2 * 3 = 6\n",
      "2 * 4 = 8\n",
      "2 * 5 = 10\n",
      "2 * 6 = 12\n",
      "2 * 7 = 14\n",
      "2 * 8 = 16\n",
      "2 * 9 = 18\n"
     ]
    }
   ],
   "source": [
    "#구구단 출력\n",
    "a = int(input(''))\n",
    "\n",
    "for i in range(1, 10):\n",
    "    print('%d * %d = %d' %(a, i, a*i))\n"
   ]
  },
  {
   "cell_type": "code",
   "execution_count": 8,
   "id": "635f9672",
   "metadata": {
    "scrolled": true
   },
   "outputs": [
    {
     "ename": "KeyboardInterrupt",
     "evalue": "Interrupted by user",
     "output_type": "error",
     "traceback": [
      "\u001b[0;31m---------------------------------------------------------------------------\u001b[0m",
      "\u001b[0;31mKeyboardInterrupt\u001b[0m                         Traceback (most recent call last)",
      "Input \u001b[0;32mIn [8]\u001b[0m, in \u001b[0;36m<cell line: 2>\u001b[0;34m()\u001b[0m\n\u001b[1;32m      1\u001b[0m \u001b[38;5;66;03m#케이스를 입력 받아 그 수 많큼 합 구하기\u001b[39;00m\n\u001b[0;32m----> 2\u001b[0m a \u001b[38;5;241m=\u001b[39m \u001b[38;5;28mint\u001b[39m(\u001b[38;5;28;43minput\u001b[39;49m\u001b[43m(\u001b[49m\u001b[38;5;124;43m'\u001b[39;49m\u001b[38;5;124;43m'\u001b[39;49m\u001b[43m)\u001b[49m)\n\u001b[1;32m      3\u001b[0m n \u001b[38;5;241m=\u001b[39m []\n\u001b[1;32m      4\u001b[0m \u001b[38;5;28;01mfor\u001b[39;00m i \u001b[38;5;129;01min\u001b[39;00m \u001b[38;5;28mrange\u001b[39m(a):\n",
      "File \u001b[0;32m~/opt/anaconda3/lib/python3.9/site-packages/ipykernel/kernelbase.py:1075\u001b[0m, in \u001b[0;36mKernel.raw_input\u001b[0;34m(self, prompt)\u001b[0m\n\u001b[1;32m   1071\u001b[0m \u001b[38;5;28;01mif\u001b[39;00m \u001b[38;5;129;01mnot\u001b[39;00m \u001b[38;5;28mself\u001b[39m\u001b[38;5;241m.\u001b[39m_allow_stdin:\n\u001b[1;32m   1072\u001b[0m     \u001b[38;5;28;01mraise\u001b[39;00m StdinNotImplementedError(\n\u001b[1;32m   1073\u001b[0m         \u001b[38;5;124m\"\u001b[39m\u001b[38;5;124mraw_input was called, but this frontend does not support input requests.\u001b[39m\u001b[38;5;124m\"\u001b[39m\n\u001b[1;32m   1074\u001b[0m     )\n\u001b[0;32m-> 1075\u001b[0m \u001b[38;5;28;01mreturn\u001b[39;00m \u001b[38;5;28;43mself\u001b[39;49m\u001b[38;5;241;43m.\u001b[39;49m\u001b[43m_input_request\u001b[49m\u001b[43m(\u001b[49m\n\u001b[1;32m   1076\u001b[0m \u001b[43m    \u001b[49m\u001b[38;5;28;43mstr\u001b[39;49m\u001b[43m(\u001b[49m\u001b[43mprompt\u001b[49m\u001b[43m)\u001b[49m\u001b[43m,\u001b[49m\n\u001b[1;32m   1077\u001b[0m \u001b[43m    \u001b[49m\u001b[38;5;28;43mself\u001b[39;49m\u001b[38;5;241;43m.\u001b[39;49m\u001b[43m_parent_ident\u001b[49m\u001b[43m[\u001b[49m\u001b[38;5;124;43m\"\u001b[39;49m\u001b[38;5;124;43mshell\u001b[39;49m\u001b[38;5;124;43m\"\u001b[39;49m\u001b[43m]\u001b[49m\u001b[43m,\u001b[49m\n\u001b[1;32m   1078\u001b[0m \u001b[43m    \u001b[49m\u001b[38;5;28;43mself\u001b[39;49m\u001b[38;5;241;43m.\u001b[39;49m\u001b[43mget_parent\u001b[49m\u001b[43m(\u001b[49m\u001b[38;5;124;43m\"\u001b[39;49m\u001b[38;5;124;43mshell\u001b[39;49m\u001b[38;5;124;43m\"\u001b[39;49m\u001b[43m)\u001b[49m\u001b[43m,\u001b[49m\n\u001b[1;32m   1079\u001b[0m \u001b[43m    \u001b[49m\u001b[43mpassword\u001b[49m\u001b[38;5;241;43m=\u001b[39;49m\u001b[38;5;28;43;01mFalse\u001b[39;49;00m\u001b[43m,\u001b[49m\n\u001b[1;32m   1080\u001b[0m \u001b[43m\u001b[49m\u001b[43m)\u001b[49m\n",
      "File \u001b[0;32m~/opt/anaconda3/lib/python3.9/site-packages/ipykernel/kernelbase.py:1120\u001b[0m, in \u001b[0;36mKernel._input_request\u001b[0;34m(self, prompt, ident, parent, password)\u001b[0m\n\u001b[1;32m   1117\u001b[0m             \u001b[38;5;28;01mbreak\u001b[39;00m\n\u001b[1;32m   1118\u001b[0m \u001b[38;5;28;01mexcept\u001b[39;00m \u001b[38;5;167;01mKeyboardInterrupt\u001b[39;00m:\n\u001b[1;32m   1119\u001b[0m     \u001b[38;5;66;03m# re-raise KeyboardInterrupt, to truncate traceback\u001b[39;00m\n\u001b[0;32m-> 1120\u001b[0m     \u001b[38;5;28;01mraise\u001b[39;00m \u001b[38;5;167;01mKeyboardInterrupt\u001b[39;00m(\u001b[38;5;124m\"\u001b[39m\u001b[38;5;124mInterrupted by user\u001b[39m\u001b[38;5;124m\"\u001b[39m) \u001b[38;5;28;01mfrom\u001b[39;00m \u001b[38;5;28mNone\u001b[39m\n\u001b[1;32m   1121\u001b[0m \u001b[38;5;28;01mexcept\u001b[39;00m \u001b[38;5;167;01mException\u001b[39;00m:\n\u001b[1;32m   1122\u001b[0m     \u001b[38;5;28mself\u001b[39m\u001b[38;5;241m.\u001b[39mlog\u001b[38;5;241m.\u001b[39mwarning(\u001b[38;5;124m\"\u001b[39m\u001b[38;5;124mInvalid Message:\u001b[39m\u001b[38;5;124m\"\u001b[39m, exc_info\u001b[38;5;241m=\u001b[39m\u001b[38;5;28;01mTrue\u001b[39;00m)\n",
      "\u001b[0;31mKeyboardInterrupt\u001b[0m: Interrupted by user"
     ]
    }
   ],
   "source": [
    "#케이스를 입력 받아 그 수 많큼 합 구하기\n",
    "a = int(input(''))\n",
    "n = []\n",
    "for i in range(a):\n",
    "    b, c = map(int, input().split())\n",
    "    n.append(b + c)\n",
    "for j in range(a):\n",
    "    print(n[j])"
   ]
  },
  {
   "cell_type": "code",
   "execution_count": 20,
   "id": "facfd775",
   "metadata": {},
   "outputs": [
    {
     "name": "stdout",
     "output_type": "stream",
     "text": [
      "0\n",
      "0\n"
     ]
    }
   ],
   "source": [
    "#입력한 숫자까지 더한 값 출력\n",
    "a = int(input(''))\n",
    "b = 0\n",
    "c = 1\n",
    "for i in range(1, a+1):\n",
    "    b += c\n",
    "    c += 1\n",
    "print(b)"
   ]
  },
  {
   "cell_type": "code",
   "execution_count": 53,
   "id": "f07fe036",
   "metadata": {
    "scrolled": true
   },
   "outputs": [
    {
     "name": "stdout",
     "output_type": "stream",
     "text": [
      "260000\n",
      "4\n",
      "20000 5\n",
      "30000 2\n",
      "10000 6\n",
      "5000 8\n",
      "Yes\n"
     ]
    }
   ],
   "source": [
    "#영수증 문제(이해 안 됨)\n",
    "def calculate(value):\n",
    "    return value[0] * value[1]\n",
    "\n",
    "def receipt(X, receipt_list):\n",
    "    answer = \"No\"\n",
    "    calculate_value = sum([calculate(value) for value in receipt_list])\n",
    "    \n",
    "    if X == calculate_value:\n",
    "        answer = \"Yes\"\n",
    "        \n",
    "    return answer\n",
    "    \n",
    "    \n",
    "if __name__ == \"__main__\":\n",
    "    X = int(input())\n",
    "    \n",
    "    receipt_list = []\n",
    "    \n",
    "    for _ in range(int(input())):\n",
    "        money, num = map(int, input().split())\n",
    "        \n",
    "        receipt_list.append((money, num))\n",
    "        \n",
    "    print(receipt(X, receipt_list))"
   ]
  },
  {
   "cell_type": "code",
   "execution_count": null,
   "id": "0226d656",
   "metadata": {},
   "outputs": [],
   "source": [
    "#내가 짠 코드..\n",
    "X = int(input(''))\n",
    "N = int(input(''))\n",
    "a, b = 0, 0\n",
    "1<= X <=1000000000\n",
    "1<= N <=100\n",
    "1<= a <=1000000\n",
    "1<= b <=10\n",
    "g = []\n",
    "f = 0\n",
    "for i in range(N):\n",
    "    a, b = map(int, input().split())\n",
    "    g.append(a * b)\n",
    "    \n",
    "for j in range(N):\n",
    "    f += g[j]\n",
    "\n",
    "if f == X:\n",
    "    print('yes')\n",
    "else:\n",
    "    print('no')"
   ]
  },
  {
   "cell_type": "code",
   "execution_count": 23,
   "id": "1cbff665",
   "metadata": {
    "scrolled": false
   },
   "outputs": [
    {
     "name": "stdout",
     "output_type": "stream",
     "text": [
      "5\n"
     ]
    },
    {
     "ename": "ValueError",
     "evalue": "not enough values to unpack (expected 2, got 0)",
     "output_type": "error",
     "traceback": [
      "\u001b[0;31m---------------------------------------------------------------------------\u001b[0m",
      "\u001b[0;31mValueError\u001b[0m                                Traceback (most recent call last)",
      "Input \u001b[0;32mIn [23]\u001b[0m, in \u001b[0;36m<cell line: 4>\u001b[0;34m()\u001b[0m\n\u001b[1;32m      3\u001b[0m T \u001b[38;5;241m=\u001b[39m \u001b[38;5;28mint\u001b[39m(\u001b[38;5;28minput\u001b[39m())\n\u001b[1;32m      4\u001b[0m \u001b[38;5;28;01mfor\u001b[39;00m i \u001b[38;5;129;01min\u001b[39;00m \u001b[38;5;28mrange\u001b[39m(T):\n\u001b[0;32m----> 5\u001b[0m   A, B \u001b[38;5;241m=\u001b[39m \u001b[38;5;28mmap\u001b[39m(\u001b[38;5;28mint\u001b[39m, sys\u001b[38;5;241m.\u001b[39mstdin\u001b[38;5;241m.\u001b[39mreadline()\u001b[38;5;241m.\u001b[39msplit())\n\u001b[1;32m      6\u001b[0m   \u001b[38;5;28mprint\u001b[39m(A\u001b[38;5;241m+\u001b[39mB)\n",
      "\u001b[0;31mValueError\u001b[0m: not enough values to unpack (expected 2, got 0)"
     ]
    }
   ],
   "source": [
    "#시간 절약해서 두 정수 더하가(주피터 노트북에서는 실행 안 됨 vscode에서 실행하시오)\n",
    "import sys\n",
    "N = int(input(''))\n",
    "M = []\n",
    "for i in range(N):\n",
    "    a, b = map(int, sys.stdin.readline().split())\n",
    "    M.append(a + b)\n",
    "for j in range(N):\n",
    "    print(M[j])"
   ]
  },
  {
   "cell_type": "code",
   "execution_count": null,
   "id": "0d73d1a9",
   "metadata": {},
   "outputs": [],
   "source": [
    "#A + b -7\n",
    "import sys\n",
    "\n",
    "N = int(input(''))\n",
    "M = []\n",
    "for i in range(N):\n",
    "    a, b = map(int, sys.stdin.readline().split())\n",
    "    M.append(a + b)\n",
    "\n",
    "for j in range(N):\n",
    "    print(\"Case #%d: %d\" % (j+1, M[j]))\n",
    "# 1씩 증가하는 코드를 짜는대 힘들었다.별거 아니지만 이런거를 모르면 나중에 다른거를 할 용기가 안 난다 열심히 하자"
   ]
  },
  {
   "cell_type": "code",
   "execution_count": null,
   "id": "f449c752",
   "metadata": {},
   "outputs": [],
   "source": [
    "#A + B - 8(꼭 입력과 결과가 따로 니와야 하는게 아니다)\n",
    "t=int(input(\"\"))\n",
    "\n",
    "for i in range(1,t+1):\n",
    "\n",
    "      a, b=map(int,input().split())\n",
    "\n",
    "      print(\"Case #%s: %s + %s = %s\" %(i,a,b,a+b))\n",
    "    "
   ]
  },
  {
   "cell_type": "code",
   "execution_count": 28,
   "id": "da9c8c3e",
   "metadata": {},
   "outputs": [
    {
     "name": "stdout",
     "output_type": "stream",
     "text": [
      "5\n",
      "*****\n",
      "****\n",
      "***\n",
      "**\n",
      "*\n"
     ]
    }
   ],
   "source": [
    "#별 출력하기\n",
    "N = int(input())\n",
    "1<=N<=100\n",
    "\n",
    "for i in range(N):\n",
    "    for j in range(i+1):\n",
    "        print('*', end=\"\")\n",
    "        \n",
    "        "
   ]
  },
  {
   "cell_type": "markdown",
   "id": "08671aee",
   "metadata": {},
   "source": []
  }
 ],
 "metadata": {
  "kernelspec": {
   "display_name": "Python 3 (ipykernel)",
   "language": "python",
   "name": "python3"
  },
  "language_info": {
   "codemirror_mode": {
    "name": "ipython",
    "version": 3
   },
   "file_extension": ".py",
   "mimetype": "text/x-python",
   "name": "python",
   "nbconvert_exporter": "python",
   "pygments_lexer": "ipython3",
   "version": "3.9.12"
  }
 },
 "nbformat": 4,
 "nbformat_minor": 5
}
