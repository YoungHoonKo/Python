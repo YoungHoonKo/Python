{
 "cells": [
  {
   "cell_type": "code",
   "execution_count": 2,
   "id": "b1c4aedb",
   "metadata": {},
   "outputs": [
    {
     "name": "stdout",
     "output_type": "stream",
     "text": [
      "0-/Users/goyeonghun/새파일.txt\n",
      "1-hello Hust\n",
      "0-/Users/goyeonghun/새파일.txt\n",
      "2-\n",
      "hello Hust\n"
     ]
    }
   ],
   "source": [
    "def file_open(file_path, mode):\n",
    "    print(\"0-\" + file_path)\n",
    "    f = open(file_path, mode)\n",
    "    return f\n",
    "\n",
    "def file_write(f, data):\n",
    "    print(\"1-\" + data)\n",
    "    f.write(data)\n",
    "    \n",
    "def file_read(f):\n",
    "    print(\"2-\")\n",
    "    data = f.read()\n",
    "    return data\n",
    "\n",
    "def file_close(f):\n",
    "    f.close()\n",
    "    \n",
    "\n",
    "if __name__ == \"__main__\":\n",
    "    file_path = \"/Users/goyeonghun/Desktop/Python/jupyter notebook/새파일.txt\"\n",
    "    input_data = \"hello Hust\"\n",
    "    \n",
    "    f = file_open(file_path, 'w')\n",
    "    file_write(f, input_data)\n",
    "    \n",
    "    f = file_open(file_path, 'r')\n",
    "    read_data = file_read(f)\n",
    "    \n",
    "    file_close(f)\n",
    "    \n",
    "    print(read_data)"
   ]
  },
  {
   "cell_type": "code",
   "execution_count": null,
   "id": "804dd83a",
   "metadata": {},
   "outputs": [],
   "source": []
  },
  {
   "cell_type": "code",
   "execution_count": null,
   "id": "a3b8dded",
   "metadata": {},
   "outputs": [],
   "source": []
  },
  {
   "cell_type": "code",
   "execution_count": null,
   "id": "c33206be",
   "metadata": {},
   "outputs": [],
   "source": []
  }
 ],
 "metadata": {
  "kernelspec": {
   "display_name": "Python 3 (ipykernel)",
   "language": "python",
   "name": "python3"
  },
  "language_info": {
   "codemirror_mode": {
    "name": "ipython",
    "version": 3
   },
   "file_extension": ".py",
   "mimetype": "text/x-python",
   "name": "python",
   "nbconvert_exporter": "python",
   "pygments_lexer": "ipython3",
   "version": "3.9.12"
  }
 },
 "nbformat": 4,
 "nbformat_minor": 5
}
